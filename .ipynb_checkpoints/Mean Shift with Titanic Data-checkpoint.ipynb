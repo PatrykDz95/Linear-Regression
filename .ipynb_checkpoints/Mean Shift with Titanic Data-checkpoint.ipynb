{
 "cells": [
  {
   "cell_type": "code",
   "execution_count": 98,
   "metadata": {},
   "outputs": [],
   "source": [
    "import matplotlib.pyplot as plt\n",
    "from matplotlib import style\n",
    "style.use('ggplot')\n",
    "import numpy as np\n",
    "from sklearn.cluster import MeanShift\n",
    "from sklearn import preprocessing\n",
    "import pandas as pd"
   ]
  },
  {
   "cell_type": "code",
   "execution_count": 99,
   "metadata": {},
   "outputs": [],
   "source": [
    "df = pd.read_excel('titanic.xls')\n",
    "original_df = pd.DataFrame.copy(df)"
   ]
  },
  {
   "cell_type": "code",
   "execution_count": 100,
   "metadata": {},
   "outputs": [],
   "source": [
    "df.drop(['body','name'], 1, inplace=True)"
   ]
  },
  {
   "cell_type": "code",
   "execution_count": 101,
   "metadata": {},
   "outputs": [],
   "source": [
    "#df.convert_objects(convert_numeric=True)\n",
    "df.fillna(0, inplace=True)"
   ]
  },
  {
   "cell_type": "code",
   "execution_count": 102,
   "metadata": {},
   "outputs": [
    {
     "data": {
      "text/plain": [
       "MeanShift(bandwidth=None, bin_seeding=False, cluster_all=True, min_bin_freq=1,\n",
       "     n_jobs=1, seeds=None)"
      ]
     },
     "execution_count": 102,
     "metadata": {},
     "output_type": "execute_result"
    }
   ],
   "source": [
    "def handle_non_numerical_data(df):\n",
    "    \n",
    "    # handling non-numerical data: must convert.\n",
    "    columns = df.columns.values\n",
    "\n",
    "    for column in columns:\n",
    "        text_digit_vals = {}\n",
    "        def convert_to_int(val):\n",
    "            return text_digit_vals[val]\n",
    "\n",
    "        #print(column,df[column].dtype)\n",
    "        if df[column].dtype != np.int64 and df[column].dtype != np.float64:\n",
    "            \n",
    "            column_contents = df[column].values.tolist()\n",
    "            #finding just the uniques\n",
    "            unique_elements = set(column_contents)\n",
    "            # great, found them. \n",
    "            x = 0\n",
    "            for unique in unique_elements:\n",
    "                if unique not in text_digit_vals:\n",
    "                    # creating dict that contains new\n",
    "                    # id per unique string\n",
    "                    text_digit_vals[unique] = x\n",
    "                    x+=1\n",
    "            # now we map the new \"id\" vlaue\n",
    "            # to replace the string. \n",
    "            df[column] = list(map(convert_to_int,df[column]))\n",
    "\n",
    "    return df\n",
    "\n",
    "df = handle_non_numerical_data(df)\n",
    "df.drop(['ticket','home.dest'], 1, inplace=True)\n",
    "\n",
    "X = np.array(df.drop(['survived'], 1).astype(float))\n",
    "X = preprocessing.scale(X)\n",
    "y = np.array(df['survived'])\n",
    "\n",
    "clf = MeanShift()\n",
    "clf.fit(X)"
   ]
  },
  {
   "cell_type": "code",
   "execution_count": null,
   "metadata": {},
   "outputs": [],
   "source": []
  },
  {
   "cell_type": "code",
   "execution_count": null,
   "metadata": {},
   "outputs": [],
   "source": []
  },
  {
   "cell_type": "code",
   "execution_count": 103,
   "metadata": {},
   "outputs": [],
   "source": [
    "labels = clf.labels_\n",
    "cluster_centers = clf.cluster_centers_\n",
    "original_df['cluster_group']=np.nan"
   ]
  },
  {
   "cell_type": "code",
   "execution_count": 113,
   "metadata": {},
   "outputs": [
    {
     "ename": "IndentationError",
     "evalue": "unexpected indent (<ipython-input-113-93ee97032673>, line 12)",
     "output_type": "error",
     "traceback": [
      "\u001b[1;36m  File \u001b[1;32m\"<ipython-input-113-93ee97032673>\"\u001b[1;36m, line \u001b[1;32m12\u001b[0m\n\u001b[1;33m    survival_cluster = temp_df[  (temp_df['survived'] == 1) ]\u001b[0m\n\u001b[1;37m    ^\u001b[0m\n\u001b[1;31mIndentationError\u001b[0m\u001b[1;31m:\u001b[0m unexpected indent\n"
     ]
    }
   ],
   "source": [
    "for i in range(len(X)):\n",
    "    original_df['cluster_group'].iloc[i] = labels[i]\n",
    "    \n",
    "n_clusters_ = len(np.unique(labels))\n",
    "survival_rates = {}\n",
    "for i in range(n_clusters_):\n",
    "    temp_df = original_df[ (original_df['cluster_group']==float(i)) ]\n",
    "    #print(temp_df.head())\n",
    "\n",
    "    survival_cluster = temp_df[  (temp_df['survived'] == 1) ]\n",
    "\n",
    "    survival_rate = len(survival_cluster) / len(temp_df)\n",
    "    #print(i,survival_rate)\n",
    "    survival_rates[i] = survival_rate\n",
    "    \n",
    "print(survival_rates)"
   ]
  },
  {
   "cell_type": "code",
   "execution_count": 105,
   "metadata": {},
   "outputs": [
    {
     "name": "stdout",
     "output_type": "stream",
     "text": [
      "      pclass  survived                                               name  \\\n",
      "0          1         1                      Allen, Miss. Elisabeth Walton   \n",
      "1          1         1                     Allison, Master. Hudson Trevor   \n",
      "2          1         0                       Allison, Miss. Helen Loraine   \n",
      "3          1         0               Allison, Mr. Hudson Joshua Creighton   \n",
      "4          1         0    Allison, Mrs. Hudson J C (Bessie Waldo Daniels)   \n",
      "10         1         0                             Astor, Col. John Jacob   \n",
      "11         1         1  Astor, Mrs. John Jacob (Madeleine Talmadge Force)   \n",
      "16         1         0                           Baxter, Mr. Quigg Edmond   \n",
      "17         1         1    Baxter, Mrs. James (Helene DeLaudeniere Chaput)   \n",
      "23         1         1                              Bidois, Miss. Rosalie   \n",
      "24         1         1                                  Bird, Miss. Ellen   \n",
      "35         1         1                           Bowen, Miss. Grace Scott   \n",
      "54         1         1                Carter, Master. William Thornton II   \n",
      "55         1         1                          Carter, Miss. Lucile Polk   \n",
      "56         1         1                         Carter, Mr. William Ernest   \n",
      "57         1         1          Carter, Mrs. William Ernest (Lucile Polk)   \n",
      "66         1         1                        Chaudanson, Miss. Victorine   \n",
      "97         1         1  Douglas, Mrs. Frederick Charles (Mary Helene B...   \n",
      "103        1         1                      Endres, Miss. Caroline Louise   \n",
      "106        1         0                                 Farthing, Mr. John   \n",
      "111        1         1                     Fortune, Miss. Alice Elizabeth   \n",
      "112        1         1                         Fortune, Miss. Ethel Flora   \n",
      "113        1         1                         Fortune, Miss. Mabel Helen   \n",
      "114        1         0                     Fortune, Mr. Charles Alexander   \n",
      "119        1         1                      Frauenthal, Dr. Henry William   \n",
      "121        1         1  Frauenthal, Mrs. Henry William (Clara Heinshei...   \n",
      "129        1         1                               Geiger, Miss. Amalie   \n",
      "139        1         1      Graham, Mrs. William Thompson (Edith Junkins)   \n",
      "180        1         1                             Kreuchen, Miss. Emilie   \n",
      "193        1         1                  Madill, Miss. Georgette Alexandra   \n",
      "238        1         1  Robert, Mrs. Edward Scott (Elisabeth Walton Mc...   \n",
      "249        1         1                        Ryerson, Master. John Borie   \n",
      "250        1         1                         Ryerson, Miss. Emily Borie   \n",
      "251        1         1              Ryerson, Miss. Susan Parker \"Suzette\"   \n",
      "275        1         1  Spedden, Mrs. Frederic Oakley (Margaretta Corn...   \n",
      "285        1         0                                 Straus, Mr. Isidor   \n",
      "286        1         0             Straus, Mrs. Isidor (Rosalie Ida Blun)   \n",
      "309        1         1                           Wick, Miss. Mary Natalie   \n",
      "310        1         0                           Wick, Mr. George Dennick   \n",
      "311        1         1         Wick, Mrs. George Dennick (Mary Hitchcock)   \n",
      "312        1         0                         Widener, Mr. George Dunton   \n",
      "314        1         1       Widener, Mrs. George Dunton (Eleanor Elkins)   \n",
      "1170       3         0                         Sage, Master. Thomas Henry   \n",
      "1171       3         0                        Sage, Master. William Henry   \n",
      "1172       3         0                                    Sage, Miss. Ada   \n",
      "1173       3         0                       Sage, Miss. Constance Gladys   \n",
      "1174       3         0                  Sage, Miss. Dorothy Edith \"Dolly\"   \n",
      "1175       3         0                            Sage, Miss. Stella Anna   \n",
      "1176       3         0                           Sage, Mr. Douglas Bullen   \n",
      "1177       3         0                                Sage, Mr. Frederick   \n",
      "1178       3         0                           Sage, Mr. George John Jr   \n",
      "\n",
      "         sex      age  sibsp  parch    ticket      fare            cabin  \\\n",
      "0     female  29.0000      0      0     24160  211.3375               B5   \n",
      "1       male   0.9167      1      2    113781  151.5500          C22 C26   \n",
      "2     female   2.0000      1      2    113781  151.5500          C22 C26   \n",
      "3       male  30.0000      1      2    113781  151.5500          C22 C26   \n",
      "4     female  25.0000      1      2    113781  151.5500          C22 C26   \n",
      "10      male  47.0000      1      0  PC 17757  227.5250          C62 C64   \n",
      "11    female  18.0000      1      0  PC 17757  227.5250          C62 C64   \n",
      "16      male  24.0000      0      1  PC 17558  247.5208          B58 B60   \n",
      "17    female  50.0000      0      1  PC 17558  247.5208          B58 B60   \n",
      "23    female  42.0000      0      0  PC 17757  227.5250              NaN   \n",
      "24    female  29.0000      0      0  PC 17483  221.7792              C97   \n",
      "35    female  45.0000      0      0  PC 17608  262.3750              NaN   \n",
      "54      male  11.0000      1      2    113760  120.0000          B96 B98   \n",
      "55    female  14.0000      1      2    113760  120.0000          B96 B98   \n",
      "56      male  36.0000      1      2    113760  120.0000          B96 B98   \n",
      "57    female  36.0000      1      2    113760  120.0000          B96 B98   \n",
      "66    female  36.0000      0      0  PC 17608  262.3750              B61   \n",
      "97    female  27.0000      1      1  PC 17558  247.5208          B58 B60   \n",
      "103   female  38.0000      0      0  PC 17757  227.5250              C45   \n",
      "106     male      NaN      0      0  PC 17483  221.7792              C95   \n",
      "111   female  24.0000      3      2     19950  263.0000      C23 C25 C27   \n",
      "112   female  28.0000      3      2     19950  263.0000      C23 C25 C27   \n",
      "113   female  23.0000      3      2     19950  263.0000      C23 C25 C27   \n",
      "114     male  19.0000      3      2     19950  263.0000      C23 C25 C27   \n",
      "119     male  50.0000      2      0  PC 17611  133.6500              NaN   \n",
      "121   female      NaN      1      0  PC 17611  133.6500              NaN   \n",
      "129   female  35.0000      0      0    113503  211.5000             C130   \n",
      "139   female  58.0000      0      1  PC 17582  153.4625             C125   \n",
      "180   female  39.0000      0      0     24160  211.3375              NaN   \n",
      "193   female  15.0000      0      1     24160  211.3375               B5   \n",
      "238   female  43.0000      0      1     24160  211.3375               B3   \n",
      "249     male  13.0000      2      2  PC 17608  262.3750  B57 B59 B63 B66   \n",
      "250   female  18.0000      2      2  PC 17608  262.3750  B57 B59 B63 B66   \n",
      "251   female  21.0000      2      2  PC 17608  262.3750  B57 B59 B63 B66   \n",
      "275   female  40.0000      1      1     16966  134.5000              E34   \n",
      "285     male  67.0000      1      0  PC 17483  221.7792          C55 C57   \n",
      "286   female  63.0000      1      0  PC 17483  221.7792          C55 C57   \n",
      "309   female  31.0000      0      2     36928  164.8667               C7   \n",
      "310     male  57.0000      1      1     36928  164.8667              NaN   \n",
      "311   female  45.0000      1      1     36928  164.8667              NaN   \n",
      "312     male  50.0000      1      1    113503  211.5000              C80   \n",
      "314   female  50.0000      1      1    113503  211.5000              C80   \n",
      "1170    male      NaN      8      2  CA. 2343   69.5500              NaN   \n",
      "1171    male  14.5000      8      2  CA. 2343   69.5500              NaN   \n",
      "1172  female      NaN      8      2  CA. 2343   69.5500              NaN   \n",
      "1173  female      NaN      8      2  CA. 2343   69.5500              NaN   \n",
      "1174  female      NaN      8      2  CA. 2343   69.5500              NaN   \n",
      "1175  female      NaN      8      2  CA. 2343   69.5500              NaN   \n",
      "1176    male      NaN      8      2  CA. 2343   69.5500              NaN   \n",
      "1177    male      NaN      8      2  CA. 2343   69.5500              NaN   \n",
      "1178    male      NaN      8      2  CA. 2343   69.5500              NaN   \n",
      "\n",
      "     embarked boat   body                        home.dest  cluster_group  \n",
      "0           S    2    NaN                     St Louis, MO            1.0  \n",
      "1           S   11    NaN  Montreal, PQ / Chesterville, ON            1.0  \n",
      "2           S  NaN    NaN  Montreal, PQ / Chesterville, ON            1.0  \n",
      "3           S  NaN  135.0  Montreal, PQ / Chesterville, ON            1.0  \n",
      "4           S  NaN    NaN  Montreal, PQ / Chesterville, ON            1.0  \n",
      "10          C  NaN  124.0                     New York, NY            1.0  \n",
      "11          C    4    NaN                     New York, NY            1.0  \n",
      "16          C  NaN    NaN                     Montreal, PQ            1.0  \n",
      "17          C    6    NaN                     Montreal, PQ            1.0  \n",
      "23          C    4    NaN                              NaN            1.0  \n",
      "24          S    8    NaN                              NaN            1.0  \n",
      "35          C    4    NaN                  Cooperstown, NY            1.0  \n",
      "54          S    4    NaN                    Bryn Mawr, PA            1.0  \n",
      "55          S    4    NaN                    Bryn Mawr, PA            1.0  \n",
      "56          S    C    NaN                    Bryn Mawr, PA            1.0  \n",
      "57          S    4    NaN                    Bryn Mawr, PA            1.0  \n",
      "66          C    4    NaN                              NaN            1.0  \n",
      "97          C    6    NaN                     Montreal, PQ            1.0  \n",
      "103         C    4    NaN                     New York, NY            1.0  \n",
      "106         S  NaN    NaN                              NaN            1.0  \n",
      "111         S   10    NaN                     Winnipeg, MB            1.0  \n",
      "112         S   10    NaN                     Winnipeg, MB            1.0  \n",
      "113         S   10    NaN                     Winnipeg, MB            1.0  \n",
      "114         S  NaN    NaN                     Winnipeg, MB            1.0  \n",
      "119         S    5    NaN                     New York, NY            1.0  \n",
      "121         S    5    NaN                     New York, NY            1.0  \n",
      "129         C    4    NaN                              NaN            1.0  \n",
      "139         S    3    NaN                    Greenwich, CT            1.0  \n",
      "180         S    2    NaN                              NaN            1.0  \n",
      "193         S    2    NaN                     St Louis, MO            1.0  \n",
      "238         S    2    NaN                     St Louis, MO            1.0  \n",
      "249         C    4    NaN  Haverford, PA / Cooperstown, NY            1.0  \n",
      "250         C    4    NaN  Haverford, PA / Cooperstown, NY            1.0  \n",
      "251         C    4    NaN  Haverford, PA / Cooperstown, NY            1.0  \n",
      "275         C    3    NaN                  Tuxedo Park, NY            1.0  \n",
      "285         S  NaN   96.0                     New York, NY            1.0  \n",
      "286         S  NaN    NaN                     New York, NY            1.0  \n",
      "309         S    8    NaN                   Youngstown, OH            1.0  \n",
      "310         S  NaN    NaN                   Youngstown, OH            1.0  \n",
      "311         S    8    NaN                   Youngstown, OH            1.0  \n",
      "312         C  NaN    NaN                  Elkins Park, PA            1.0  \n",
      "314         C    4    NaN                  Elkins Park, PA            1.0  \n",
      "1170        S  NaN    NaN                              NaN            1.0  \n",
      "1171        S  NaN   67.0                              NaN            1.0  \n",
      "1172        S  NaN    NaN                              NaN            1.0  \n",
      "1173        S  NaN    NaN                              NaN            1.0  \n",
      "1174        S  NaN    NaN                              NaN            1.0  \n",
      "1175        S  NaN    NaN                              NaN            1.0  \n",
      "1176        S  NaN    NaN                              NaN            1.0  \n",
      "1177        S  NaN    NaN                              NaN            1.0  \n",
      "1178        S  NaN    NaN                              NaN            1.0  \n"
     ]
    }
   ],
   "source": [
    "print(original_df[ (original_df['cluster_group']==1) ])"
   ]
  },
  {
   "cell_type": "code",
   "execution_count": 106,
   "metadata": {},
   "outputs": [
    {
     "name": "stdout",
     "output_type": "stream",
     "text": [
      "            pclass     survived         age        sibsp        parch  \\\n",
      "count  1239.000000  1239.000000  988.000000  1239.000000  1239.000000   \n",
      "mean      2.337369     0.372881   29.523532     0.427764     0.294592   \n",
      "std       0.814340     0.483766   14.278212     0.833121     0.645272   \n",
      "min       1.000000     0.000000    0.166700     0.000000     0.000000   \n",
      "25%       2.000000     0.000000   21.000000     0.000000     0.000000   \n",
      "50%       3.000000     0.000000   28.000000     0.000000     0.000000   \n",
      "75%       3.000000     1.000000   38.000000     1.000000     0.000000   \n",
      "max       3.000000     1.000000   80.000000     5.000000     4.000000   \n",
      "\n",
      "              fare        body  cluster_group  \n",
      "count  1238.000000  115.000000         1239.0  \n",
      "mean     24.770893  161.452174            0.0  \n",
      "std      27.381611   98.333504            0.0  \n",
      "min       0.000000    1.000000            0.0  \n",
      "25%       7.895800   71.000000            0.0  \n",
      "50%      13.000000  165.000000            0.0  \n",
      "75%      27.720800  257.000000            0.0  \n",
      "max     227.525000  328.000000            0.0  \n"
     ]
    }
   ],
   "source": [
    "print(original_df[ (original_df['cluster_group']==0) ].describe())"
   ]
  },
  {
   "cell_type": "code",
   "execution_count": 107,
   "metadata": {},
   "outputs": [
    {
     "name": "stdout",
     "output_type": "stream",
     "text": [
      "      pclass  survived                                               name  \\\n",
      "629        3         0                        Andersson, Mr. Anders Johan   \n",
      "632        3         0  Andersson, Mrs. Anders Johan (Alfrida Konstant...   \n",
      "644        3         0         Asplund, Mr. Carl Oscar Vilhelm Gustafsson   \n",
      "646        3         1  Asplund, Mrs. Carl Oscar (Selma Augusta Emilia...   \n",
      "831        3         0                     Goodwin, Mr. Charles Frederick   \n",
      "832        3         0            Goodwin, Mrs. Frederick (Augusta Tyler)   \n",
      "1106       3         0             Panula, Mrs. Juha (Maria Emilia Ojala)   \n",
      "1146       3         0               Rice, Mrs. William (Margaret Norton)   \n",
      "1179       3         0                              Sage, Mr. John George   \n",
      "1180       3         0                     Sage, Mrs. John (Annie Bullen)   \n",
      "\n",
      "         sex   age  sibsp  parch    ticket     fare cabin embarked boat  \\\n",
      "629     male  39.0      1      5    347082  31.2750   NaN        S  NaN   \n",
      "632   female  39.0      1      5    347082  31.2750   NaN        S  NaN   \n",
      "644     male  40.0      1      5    347077  31.3875   NaN        S  NaN   \n",
      "646   female  38.0      1      5    347077  31.3875   NaN        S   15   \n",
      "831     male  40.0      1      6   CA 2144  46.9000   NaN        S  NaN   \n",
      "832   female  43.0      1      6   CA 2144  46.9000   NaN        S  NaN   \n",
      "1106  female  41.0      0      5   3101295  39.6875   NaN        S  NaN   \n",
      "1146  female  39.0      0      5    382652  29.1250   NaN        Q  NaN   \n",
      "1179    male   NaN      1      9  CA. 2343  69.5500   NaN        S  NaN   \n",
      "1180  female   NaN      1      9  CA. 2343  69.5500   NaN        S  NaN   \n",
      "\n",
      "       body                             home.dest  cluster_group  \n",
      "629     NaN                   Sweden Winnipeg, MN            4.0  \n",
      "632     NaN                   Sweden Winnipeg, MN            4.0  \n",
      "644   142.0                 Sweden  Worcester, MA            4.0  \n",
      "646     NaN                 Sweden  Worcester, MA            4.0  \n",
      "831     NaN  Wiltshire, England Niagara Falls, NY            4.0  \n",
      "832     NaN  Wiltshire, England Niagara Falls, NY            4.0  \n",
      "1106    NaN                                   NaN            4.0  \n",
      "1146  327.0                                   NaN            4.0  \n",
      "1179    NaN                                   NaN            4.0  \n",
      "1180    NaN                                   NaN            4.0  \n"
     ]
    }
   ],
   "source": [
    "print(original_df[ (original_df['cluster_group']==4) ])"
   ]
  },
  {
   "cell_type": "code",
   "execution_count": null,
   "metadata": {},
   "outputs": [],
   "source": []
  },
  {
   "cell_type": "code",
   "execution_count": null,
   "metadata": {},
   "outputs": [],
   "source": []
  }
 ],
 "metadata": {
  "kernelspec": {
   "display_name": "Python 3",
   "language": "python",
   "name": "python3"
  },
  "language_info": {
   "codemirror_mode": {
    "name": "ipython",
    "version": 3
   },
   "file_extension": ".py",
   "mimetype": "text/x-python",
   "name": "python",
   "nbconvert_exporter": "python",
   "pygments_lexer": "ipython3",
   "version": "3.6.5"
  }
 },
 "nbformat": 4,
 "nbformat_minor": 2
}
