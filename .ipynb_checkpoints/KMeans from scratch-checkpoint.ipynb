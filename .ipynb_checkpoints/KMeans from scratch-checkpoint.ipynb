{
 "cells": [
  {
   "cell_type": "code",
   "execution_count": 55,
   "metadata": {},
   "outputs": [],
   "source": [
    "import matplotlib.pyplot as plt\n",
    "from matplotlib import style\n",
    "style.use('ggplot')\n",
    "import numpy as np"
   ]
  },
  {
   "cell_type": "code",
   "execution_count": 56,
   "metadata": {},
   "outputs": [],
   "source": [
    "X = np.array([[1,2],\n",
    "            [1.5,1.8],\n",
    "            [5,8],\n",
    "            [8,8],\n",
    "            [1,0.6],\n",
    "            [9,11],\n",
    "             [1,3],\n",
    "                   [8,9],\n",
    "                   [0,3],\n",
    "                   [5,4],\n",
    "                   [6,4],])"
   ]
  },
  {
   "cell_type": "code",
   "execution_count": 57,
   "metadata": {},
   "outputs": [],
   "source": [
    "# plt.scatter(X[:,0], X[:,1], s=50)\n",
    "# plt.show()"
   ]
  },
  {
   "cell_type": "code",
   "execution_count": 58,
   "metadata": {},
   "outputs": [],
   "source": [
    "colors =10*[\"g\",\"r\",\"c\",\"b\",\"k\"]"
   ]
  },
  {
   "cell_type": "code",
   "execution_count": 59,
   "metadata": {},
   "outputs": [
    {
     "name": "stdout",
     "output_type": "stream",
     "text": [
      "484.7222222222223\n",
      "13.0\n",
      "52.10727969348656\n"
     ]
    },
    {
     "data": {
      "image/png": "[encoded data removed]",
      "text/plain": [
       "<Figure size 432x288 with 1 Axes>"
      ]
     },
     "metadata": {},
     "output_type": "display_data"
    }
   ],
   "source": [
    "class K_Means:\n",
    "    def __init__(self, k=2, tol=0.001, max_iter=300):\n",
    "        self.k=k\n",
    "        self.tol = tol\n",
    "        self.max_iter=max_iter\n",
    "    \n",
    "    def fit(self,data):\n",
    "        \n",
    "        self.centroids = {}\n",
    "        \n",
    "        for i in range(self.k):\n",
    "            self.centroids[i] = data[i]\n",
    "            \n",
    "        for i in range(self.max_iter):\n",
    "            self.classifications = {}\n",
    "            \n",
    "            for i in range(self.k):\n",
    "                self.classifications[i] = []\n",
    "            \n",
    "            for featureset in data:\n",
    "                distances = [np.linalg.norm(featureset-self.centroids[centroids]) for centroids in self.centroids]\n",
    "                classification = distances.index(min(distances))\n",
    "                self.classifications[classification].append(featureset)\n",
    "        \n",
    "            prev_centroids = dict(self.centroids)\n",
    "            \n",
    "            for classification in self.classifications:\n",
    "                pass\n",
    "                self.centroids[classification] = np.average(self.classifications[classification], axis=0)\n",
    "            optimized = True\n",
    "            \n",
    "            for c in self.centroids:\n",
    "                original_centroid = prev_centroids[c]\n",
    "                current_centroid = self.centroids[c]\n",
    "                if np.sum((current_centroid - original_centroid)/original_centroid*100.0) > self.tol:\n",
    "                    print(np.sum((current_centroid - original_centroid)/original_centroid*100.0))\n",
    "                    optimized = False\n",
    "                    \n",
    "            if optimized:\n",
    "                break\n",
    "                \n",
    "    def predict(self,data):\n",
    "        distances = [np.linalg.norm(data-self.centroids[centroids]) for centroids in self.centroids]\n",
    "        classification = distances.index(min(distances))\n",
    "        return classification\n",
    "    \n",
    "clf = K_Means()\n",
    "clf.fit(X)\n",
    "\n",
    "for centroid in clf.centroids:\n",
    "    plt.scatter(clf.centroids[centroid][0],clf.centroids[centroid][1],\n",
    "               marker=\"o\", color=\"k\", s=150, linewidths=5)\n",
    "    \n",
    "for classification in clf.classifications:\n",
    "    color = colors[classification]\n",
    "    for featureset in clf.classifications[classification]:\n",
    "        plt.scatter(featureset[0], featureset[1], marker=\"x\", color=color, s=150, linewidths=5)\n",
    "        \n",
    "# unknows = np.array([[1,3],\n",
    "#                    [8,9],\n",
    "#                    [0,3],\n",
    "#                    [5,4],\n",
    "#                    [6,4],])\n",
    "# for unknow in unknows:\n",
    "#     classification = clf.predict(unknow)\n",
    "#     plt.scatter(unknow[0], unknow[1], marker=\"*\",color=colors[classification], s=150, linewidths=5)\n",
    "        \n",
    "plt.show()\n",
    "    \n",
    "    \n",
    "    \n",
    "    \n",
    "    "
   ]
  },
  {
   "cell_type": "code",
   "execution_count": null,
   "metadata": {},
   "outputs": [],
   "source": []
  },
  {
   "cell_type": "code",
   "execution_count": null,
   "metadata": {},
   "outputs": [],
   "source": []
  },
  {
   "cell_type": "code",
   "execution_count": null,
   "metadata": {},
   "outputs": [],
   "source": []
  }
 ],
 "metadata": {
  "kernelspec": {
   "display_name": "Python 3",
   "language": "python",
   "name": "python3"
  },
  "language_info": {
   "codemirror_mode": {
    "name": "ipython",
    "version": 3
   },
   "file_extension": ".py",
   "mimetype": "text/x-python",
   "name": "python",
   "nbconvert_exporter": "python",
   "pygments_lexer": "ipython3",
   "version": "3.6.5"
  }
 },
 "nbformat": 4,
 "nbformat_minor": 2
}
